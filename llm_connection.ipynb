{
 "cells": [
  {
   "cell_type": "markdown",
   "id": "4bec65c0",
   "metadata": {},
   "source": [
    "### **pure openai**"
   ]
  },
  {
   "cell_type": "code",
<<<<<<< HEAD
   "execution_count": 1,
=======
   "execution_count": 3,
>>>>>>> b59e70891c370f242f970429b820a1e35aaba3d3
   "id": "3787f35c",
   "metadata": {},
   "outputs": [
    {
<<<<<<< HEAD
     "ename": "TypeError",
     "evalue": "OpenAI.__init__() got an unexpected keyword argument 'model_name'",
     "output_type": "error",
     "traceback": [
      "\u001b[31m---------------------------------------------------------------------------\u001b[39m",
      "\u001b[31mTypeError\u001b[39m                                 Traceback (most recent call last)",
      "\u001b[36mCell\u001b[39m\u001b[36m \u001b[39m\u001b[32mIn[1]\u001b[39m\u001b[32m, line 3\u001b[39m\n\u001b[32m      1\u001b[39m \u001b[38;5;28;01mfrom\u001b[39;00m\u001b[38;5;250m \u001b[39m\u001b[34;01mopenai\u001b[39;00m\u001b[38;5;250m \u001b[39m\u001b[38;5;28;01mimport\u001b[39;00m OpenAI\n\u001b[32m----> \u001b[39m\u001b[32m3\u001b[39m client = \u001b[43mOpenAI\u001b[49m\u001b[43m(\u001b[49m\n\u001b[32m      4\u001b[39m \u001b[43m    \u001b[49m\u001b[43mbase_url\u001b[49m\u001b[43m=\u001b[49m\u001b[33;43m\"\u001b[39;49m\u001b[33;43mhttp://127.0.0.1:1234/v1\u001b[39;49m\u001b[33;43m\"\u001b[39;49m\u001b[43m,\u001b[49m\n\u001b[32m      5\u001b[39m \u001b[43m    \u001b[49m\u001b[43mmodel_name\u001b[49m\u001b[43m \u001b[49m\u001b[43m=\u001b[49m\u001b[43m \u001b[49m\u001b[33;43m'\u001b[39;49m\u001b[33;43mexaone-3.5-2.4b-instruct\u001b[39;49m\u001b[33;43m'\u001b[39;49m\u001b[43m,\u001b[49m\n\u001b[32m      6\u001b[39m \u001b[43m    \u001b[49m\u001b[43mapi_key\u001b[49m\u001b[43m=\u001b[49m\u001b[33;43m\"\u001b[39;49m\u001b[33;43mlm-studio\u001b[39;49m\u001b[33;43m\"\u001b[39;49m\u001b[43m,\u001b[49m\n\u001b[32m      7\u001b[39m \u001b[43m)\u001b[49m\n\u001b[32m      9\u001b[39m \u001b[38;5;66;03m# 질문 생성 → 답변 요청\u001b[39;00m\n\u001b[32m     10\u001b[39m response = client.chat.completions.create(\n\u001b[32m     11\u001b[39m     model=\u001b[33m\"\u001b[39m\u001b[33mexaone-3.5-2.4b-instruct\u001b[39m\u001b[33m\"\u001b[39m,  \u001b[38;5;66;03m# 또는 LM Studio에서 실행 중인 모델 이름\u001b[39;00m\n\u001b[32m     12\u001b[39m     messages=[\n\u001b[32m   (...)\u001b[39m\u001b[32m     17\u001b[39m     max_tokens=\u001b[32m512\u001b[39m\n\u001b[32m     18\u001b[39m )\n",
      "\u001b[31mTypeError\u001b[39m: OpenAI.__init__() got an unexpected keyword argument 'model_name'"
=======
     "name": "stdout",
     "output_type": "stream",
     "text": [
      "저는 EXAONE 3.5입니다! LG AI Research에서 개발된 강력하고 안전한 인공지능 모델로, 사용자에게 친절하게 도움을 드리는 것을 목표로 합니다. 다양한 자연어 처리 작업을 수행할 수 있으며, 지속적인 업데이트와 연구를 통해 지식을 확장하고 있습니다. 궁금한 점이나 도움이 필요한 사항이 있으면 언제든지 말씀해 주세요!\n"
>>>>>>> b59e70891c370f242f970429b820a1e35aaba3d3
     ]
    }
   ],
   "source": [
    "\n",
    "import openai\n",
    "\n",
    "openai.base_url = \"http://127.0.0.1:1234/v1/\"\n",
    "openai.api_key=\"lm-studio\"\n",
    "\n",
    "# client = OpenAI(\n",
    "#     base_url=\"http://127.0.0.1:1234/v1\",\n",
    "#     # model_name = 'exaone-3.5-2.4b-instruct',\n",
    "#     api_key=\"lm-studio\",\n",
    "# )\n",
    "\n",
    "# 질문 생성 → 답변 요청\n",
    "response = openai.chat.completions.create(\n",
    "    model=\"exaone-3.5-2.4b-instruct\",  # 또는 LM Studio에서 실행 중인 모델 이름\n",
    "    messages=[\n",
    "        {\"role\": \"system\", \"content\": \"당신은 친절한 exaone AI 비서입니다.\"},\n",
    "        {\"role\": \"user\", \"content\": \"너를 소개해줘\"}\n",
    "    ],\n",
    "    # temperature=0.7,\n",
    "    max_tokens=512,\n",
    ")\n",
    "\n",
    "# 결과 출력\n",
    "print(response.choices[0].message.content)"
   ]
  },
  {
   "cell_type": "markdown",
   "id": "bcc0f953",
   "metadata": {},
   "source": [
    "#### **langchain openai**"
   ]
  },
  {
   "cell_type": "code",
   "execution_count": 4,
   "id": "d8bf6188",
   "metadata": {},
   "outputs": [
    {
     "name": "stdout",
     "output_type": "stream",
     "text": [
      "저는 **EXAONE 3.5**입니다. LG AI Research에서 개발된 인공지능 모델로, 안전하고 정확한 응답을 위해 훈련되었습니다. 다양한 지시를 처리하며, 사용자와 효과적으로 상호작용하기 위한 지식과 능력을 갖추고 있습니다.\n"
     ]
    }
   ],
   "source": [
    "from langchain_openai import ChatOpenAI\n",
    "\n",
    "chat = ChatOpenAI(\n",
    "    model_name = 'exaone-3.5-2.4b-instruct',\n",
    "    openai_api_key=\"lm-studio\",\n",
    "    openai_api_base=\"http://127.0.0.1:1234/v1\",\n",
    ")\n",
    "\n",
    "response = chat.invoke(\"너는 누구니?\")\n",
    "\n",
    "print(response.content)  # 테스트용 (실제 서비스에서는 print 금지)"
   ]
  },
  {
   "cell_type": "markdown",
   "id": "daa66dfc",
   "metadata": {},
   "source": [
    "#### **Google - Gemma**"
   ]
  },
  {
   "cell_type": "code",
   "execution_count": 1,
   "id": "930ccf6a",
   "metadata": {},
   "outputs": [
    {
     "name": "stdout",
     "output_type": "stream",
     "text": [
      "이 리뷰는 **긍정적**입니다. 다음 근거를 통해 판단했습니다.\n",
      "\n",
      "*   **높은 평가:** 리뷰어는 해당 유튜버의 영상에 대해 \"찰지게 깜\", \"고퀄\"과 같이 매우 긍정적인 표현을 사용하고 있습니다.\n",
      "*   **공감대 형성:** 리뷰어는 다른 사람들도 공감할 수 있는 방식으로 비판이 이루어진다고 언급하며, 높은 확률로 공감하면서 영상을 볼 수 있다고 평가합니다.\n",
      "*   **논리적 비판 인정:** 재미있게 봤던 영화를 비판하더라도 논리적인 근거를 제시하여 불쾌감을 주지 않는다는 점을 긍정적으로 평가합니다.\n",
      "*   **구분 능력:** 가볍게 드립치는 부분과 진지하게 비판해야 할 부분을 구분하는 능력을 높이 평가합니다.\n",
      "*   **추천 콘텐츠 언급:** 괜찮은 영화 추천도 긍정적으로 평가하며, 전반적인 콘텐츠에 대한 만족도를 나타냅니다.\n",
      "*   **업로드 지연에 대한 이해:** 업로드가 늦어지더라도 영상의 고퀄리티와 유튜버의 바쁜 일정으로 인해 이해하고 있다는 점을 언급하여 긍정적인 인상을 주고 있습니다.\n",
      "\n",
      "전반적으로 리뷰는 해당 유튜버의 콘텐츠를 높이 평가하며, 긍정적인 면을 강조하고 있습니다.\n"
     ]
    }
   ],
   "source": [
    "from langchain_openai import ChatOpenAI\n",
    "\n",
    "chat = ChatOpenAI(\n",
    "    model_name = 'google/gemma-3-12b',\n",
    "    openai_api_key=\"lm-studio\",\n",
    "    openai_api_base=\"http://127.0.0.1:1234/v1\",\n",
    ")\n",
    "\n",
    "prompt = str(\n",
    "    \"\"\"\n",
    "    아래 영화 리뷰에 대하  긍정 / 부정 / 중립을 객관적으로 판단해줘\n",
    "    \n",
    "    구린 영화 까는거 전문 리뷰어인데\n",
    "\n",
    "정말 찰지게 깜. 온갖 드립과 함께 찰지게 깜.\n",
    "\n",
    "근데 중요한건 '정말 까야되는 영화를, 정말 까야될 포인트에서 제대로 깜'\n",
    "\n",
    "\n",
    "\n",
    "일단 내가 보고나서 정말 썅욕했던 영화들을 내가 썅욕했던 그 지점 그대로 까는 경우가 많아. 그래서 높은 확률로 공감하면서 영상을 볼수 있어.\n",
    "\n",
    "(궁합... 7번방... 지오스톰... 킹스맨2... 미이라... 리어르... )\n",
    "\n",
    "\n",
    "\n",
    "그리고 설령 내가 재밌게 봤던 영화를 까더라도 충분히 나도 수긍할수 있는 지점을 논리적으로 비판해서\n",
    "\n",
    "재밌게 봤던 영화가 까이더라도 별로 불쾌하지 않아. (청년경찰, 신과함께)\n",
    "\n",
    "\n",
    "\n",
    "그리고 가볍게 드립치면서 까도 되는 부분과, \n",
    "\n",
    "진지하게 비판해야 되는 부분(특히 영화를 통해 드러나는 가치관적인 부분이 문제가 될때)을 구분하는 것도 마음에 들고\n",
    "\n",
    "가끔 괜찮은 영화 추천도 하는데, 정말 다 괜찮은것도 좋아.\n",
    "\n",
    "\n",
    "\n",
    "최근에는 일이 너무 늘어나서 (다른 유튜버들과의 콜라보레이션, 방구석 1열용 영상작업)\n",
    "\n",
    "약간 업로드가 지체될때가 있긴한데, 영상이 워낙 고퀄이기도 하고 요새는 일도 워낙 많으니 늦어도 그러려니 하게 되더라. \n",
    "\n",
    "\n",
    "    \"\"\"\n",
    ")\n",
    "\n",
    "response = chat.invoke(prompt)\n",
    "\n",
    "print(response.content)  # 테스트용 (실제 서비스에서는 print 금지)"
   ]
  },
  {
   "cell_type": "code",
   "execution_count": 2,
   "id": "a39843f6",
   "metadata": {},
   "outputs": [
    {
     "name": "stdout",
     "output_type": "stream",
     "text": [
      "페이지 수: 60\n",
      "페이지 1 내용\n",
      "===================================\n",
      "제 안 요 청 서 \n",
      "사 업 명바레인 건강보험시스템 구축사업주관기관 건강보험심사평가원\n",
      "2017. 7.\n",
      "국제협력단국제협력개발팀이광형 팀장033)739-1735장종문 차장033)739-1714바레인 해외사업 추진팀이훈호 팀장033)739-1739신현석 차장033)739-1719 \n",
      "목   차 I. 사업 안내·························································································································· 1   1. 사업 개요······················································································································ 2     가. 추진배경·················································································································· 2     나. 추진목표·················································································································· 2     다. 추진과제·················································································································· 4     라. 추진내용·················································································································· 6     마. 추진방식················································································································· 10      바. 추진일정················································································································· 11   2. 기관 현황····················································································································· 12     가. 업무현황················································································································· 12     나. 정보시스템 현황··································································································· 12     다. 참고 사항··············································································································· 12 II. 제안요청 사항··············································································································· 13    1. 목표시스템················································································································· 14     가. 시스템 개념도······································································································· 14     나. 서버 구성도··········································································································· 14     다. 인프라 도입내역 및 수량··················································································· 15    2. 제안 요청 사항········································································································· 17     가. 요구사항 총괄표··································································································· 17     나. 요구사항 목록표··································································································· 18     다. 상세 요구 사항····································································································· 22 III. 제안 안내····················································································································· 77\n",
      "{'producer': 'Hancom PDF 1.3.0.545', 'creator': 'Hwp 2022 12.0.0.535', 'creationdate': '2025-05-21T16:54:19+09:00', 'author': 'dslee', 'moddate': '2025-05-21T16:54:19+09:00', 'pdfversion': '1.4', 'source': 'G:\\\\내 드라이브\\\\LLM-RAG-LangChain\\\\제안요청서_바레인.pdf', 'total_pages': 60, 'page': 0, 'page_label': '1'}\n",
      "0\n",
      "1\n",
      "페이지 2 내용\n",
      "===================================\n",
      "- 1 -\n",
      "I. 사업 안내\n",
      "- 2 -\n",
      "1. 사업 개요가. 추진배경  ○ 바레인 정부는 국민들에게 양질의 보건의료서비스의 제공과 국가 보건 의료제도의 효율적인 운영을 위한 실행계획으로 건강보험 제도 도입에 관한 세부계획인 ‘SEHATI 프로그램’을 건강보험심사평가원과 진행 중  ○ 새로운 건강보험 제도 적용과 최신의 IT 기술(Web기반)을 반영한   SEHATI-ICT 시스템 구축이 필요함나. 추진목표\n",
      "{'producer': 'Hancom PDF 1.3.0.545', 'creator': 'Hwp 2022 12.0.0.535', 'creationdate': '2025-05-21T16:54:19+09:00', 'author': 'dslee', 'moddate': '2025-05-21T16:54:19+09:00', 'pdfversion': '1.4', 'source': 'G:\\\\내 드라이브\\\\LLM-RAG-LangChain\\\\제안요청서_바레인.pdf', 'total_pages': 60, 'page': 1, 'page_label': '2'}\n",
      "1\n",
      "2\n",
      "페이지 3 내용\n",
      "===================================\n",
      "- 3 -\n",
      " “바레인 건강보험 개혁의 성공을 위한 SEHATI-ICT시스템 구축”  ○ 안전한 의약품 사용과 국가 의약품 유통관리 강화를 위한 “DUR (Drug Utilization Review)” 구축     - 의약품 처방 및 조제 금기사항 등을 사전에 점검하여 안전한 의약품 사용으로 환자안전 보장     - 바레인의 의약품 수입, 공급, 사용 등 유통정보를 연계․통합하여 국가 의약품 조달 모니터링 및 적정 재고관리 강화     - 병원, 약국 간 전자처방전(e-prescription) 전달과 약국의 조제, 판매, 재고 관리 효율화  ○ 진료의 적정성 및 의료의 질을 보장하는 “NHIIS(National Health Insurance Information System)\" 구축     - 바레인 건강보험 급여패키지와 급여기준 개발 지원, 국가 보건의료정보 표준화 및 코딩 시스템 개발로 건강보험 제도 정착 지원     - 청구서 등 관련 서식 표준화, 청구(e-Claim) 및 심사 기능 등을 포함한 웹기반 의료심사 시스템 구축     - 이해당사자(Stakeholder)에 SEHATI-ICT 시스템 이용 수수료를 부과하는 Self-Financing 기능을 통해 시스템의 안정적 운영 지원  ○ 국가 보건의료 데이터 분석과 활용을 위한 \"SUN(Smart Utilization of NEMR)\" 구축     - 국가 의료비 지출, 의료 이용, 의료서비스 질, 의료자원, 환자안전 정보를 분석하여 효율적이고 지속가능한 의료정책 수립 지원     - 병원․의약품 정보 검색, 감염병 발생 정보 조회, 헌혈 금지 대상자 정보 연계, 개인건강기록(PHR) 조회 등 대국민 의료정보 서비스 제공     - 4 -\n",
      "다. 추진과제  ○ 새로운 건강보험 제도 도입을 위한 신규업무 ICT 시스템 구축      - DUR 시스템\n",
      "     - NHIIS 시스템\n",
      "{'producer': 'Hancom PDF 1.3.0.545', 'creator': 'Hwp 2022 12.0.0.535', 'creationdate': '2025-05-21T16:54:19+09:00', 'author': 'dslee', 'moddate': '2025-05-21T16:54:19+09:00', 'pdfversion': '1.4', 'source': 'G:\\\\내 드라이브\\\\LLM-RAG-LangChain\\\\제안요청서_바레인.pdf', 'total_pages': 60, 'page': 2, 'page_label': '3'}\n",
      "2\n",
      "3\n",
      "페이지 4 내용\n",
      "===================================\n",
      "- 5 -\n",
      "     - SUN 시스템\n",
      "  ○ 새로운 시스템과 관련된 5개의 물리적 ICT 시스템 구축      - 5개의 Sub-System의 시스템 개발      ㆍSEHATI Portal      ㆍDrug Safety Check System      ㆍInternal Business Management System      ㆍBusiness Intelligence System      ㆍInterface System  ○ 업무 전반에 걸친 프로세스 설계, 체계화 및 개발     - 신규 시스템 운영을 위한 업무 전반의 프로세스 신규 수립, 청구 및 심사, 심사결정과 모니터링기능 구성, 보건의료이용 현황 분석 등   ○ Mobile App 기능 구현이 포함된 Web 기반 환경으로 개발, 클라우드(가상화) 등 최신기술을 적용하여 구축  ○ 의약품 수입/공급업체, 병원, 약국, 보험회사와 정보 연계 및 통합\n",
      "- 6 -\n",
      "라. 추진내용1. 업무 프로세스 설계  ○ 새로운 건강보험 제도 도입을 고려한 통합적 관점에서 업무 프로세스 설계     - DUR을 통한 의약품 재고 관리, 웹 기반 약국관리시스템, e-Claim 기반의 심사체계와 보건의료정보 분석 등 업무특성에 적합한 설계방안 등 제시  ○ 새로운 업무(심사체계) 도입 등을 위한 업무구축 범위에 따라 기존의 업무프로세스 재설계2. SEHATI-ICT 시스템 구축 □ 응용프로그램 개발  ○ DUR, NHIIS, SUN시스템 구축  ○ 바레인 주요 HIS(I-SEHA, AL_CARE, HOP.E), 유관기관(IGA, NHRA, LMRA, SHIFA) 등 연관 관계를 고려한 시스템 구축  ○ 효율적인 DB 표준화·설계, 데이터 이행을 위한 전문가 투입\n",
      "{'producer': 'Hancom PDF 1.3.0.545', 'creator': 'Hwp 2022 12.0.0.535', 'creationdate': '2025-05-21T16:54:19+09:00', 'author': 'dslee', 'moddate': '2025-05-21T16:54:19+09:00', 'pdfversion': '1.4', 'source': 'G:\\\\내 드라이브\\\\LLM-RAG-LangChain\\\\제안요청서_바레인.pdf', 'total_pages': 60, 'page': 3, 'page_label': '4'}\n",
      "3\n",
      "4\n",
      "페이지 5 내용\n",
      "===================================\n",
      "- 7 -\n",
      "    - DUR DB, NEMR DB, 진료정보 분석(Analysis ) DB 의 구축     ․바레인 정부의 국가보건정보사전(NHDD:National Health Data Dictionary)에 기반한 DB 구축  ○ 바레인 건강보험 제도 개혁을 안정적으로 지원하기 위한 5개의 서브 시스템 구축    - SEHATI Portal System     ․Common Functions: 외부 멤버 관리, 고객 관리 등      ․DUR Management: DUR 점검 결과 이력 관리 등      ․Pharmacy Management: 처방전 조회, 조제, 의약품 재고관리 등 약국 업무를 지원하기 위한 제반 기능 제공     ․Drug Distribution Information: 의약품 수입, 공급 내역을 보고, 조회 업무를 지원하기 위한 제반 기능 제공     ․e-Claim: NEMR 데이터를 기반으로 한 간편 청구 기능 및 표준화된 청구 양식과 전자청구 파일 업로드 기능 제공     ․PHR(Personal Health Record): 개인의 질병, 투약이력 등 진료내역 조회 서비스 제공     ․Access to Healthcare Information: 의약품안전 서비스, 요양기관 정보, 의료 질 정보, 의료이용 통계 등 정보 제공   - Drug Safety Check System     ․Drug Safety Check: 처방, 조제 점검결과 정보 제공 및 DUR점검요청에 대한 확장성(점검 항목 추가 등)을 고려한 점검기능 제공     ․Drug Inventory Check: 동일지역* 내 약국 의약품 재고정보 제공       (*동일지역: 단일 Health Center 1개소의 진료권내 또는 바레인 행정구역 단위의 최소 인접지역을 의미)   - Internal Business Management System     ․Common Functions: 내부 사용자 관리, 외부 멤버 관리, 공통코드 관리, 고객 관리 등     ․DUR Management - 8 -\n",
      "       ‧ Drug Safety Review System, Pharmacy Management Service, Drug Distribution Information Service의 메뉴, 사용자, 권한 관리        ‧ 보고 데이터 처리, 조회 등 업무 관리        ‧ 사용자 권한별 정보 차등 제공       ‧ 처방 정보 조회 및 송․수신 내역 관리       ‧ DUR 기준 DB 배포 및 이력관리 등의 기능 제공     ․Standard Management: 급여기준, 자격체크, 심사기준 정보 등의 관리     ․Review: 심평원의 심사시스템(HIRA+)과 유사한 기능을 제공하는 것으로서, 전자 청구 내역을 자동점검, 급여기준, 의료자원 등을 통합 관리하고 심사결과 통보와 심사 결과 현황 조회 등의 기능 제공     ․Monitoring & Oversight: DRG 열외군 및 모니터링이 필요한 대상(중복청구 가능 건, 이상 진료 경향 기관 등)에 대한 관리      ․Self-Financing: 진료비 청구, 정보 조회 등으로 인해 발생한 수수료 청구서 생성 및 수수료 납부 관리 기능 제공   - Business Intelligence System     ․Drug Safety and Supply Monitoring: DUR 점검 관련 통계, 의약품 유통 정보, 약국 통계 정보 등 통계정보 제공     ․Monitoring&Oversight: Drug Safety Check 현황 및 의약품 유통정보, 의약품 재고 현황, 진료비, NEMR의 진료데이터를 분석, 진료비, 진료동향 등을 모니터링 기능 제공     ․Healthcare Information Analysis: 의료비 지출과 의료이용 현황, 환자안전, 건강서비스 질, 건강정보 통계 등의 정보공개 등의 기능 제공   - Interface System     ․연계 솔루션 사용 또는 응용 프로그램 개발: Web Services 등 표준화된 연계 방식 사용하여 각종 기준정보, 신고정보, 의료자원 정보를 자동으로 수신하기 위한 데이터 연계 기능을 제공하여 연계 수신 데이터를 DB에 적재하는 기능 제공\n",
      "{'producer': 'Hancom PDF 1.3.0.545', 'creator': 'Hwp 2022 12.0.0.535', 'creationdate': '2025-05-21T16:54:19+09:00', 'author': 'dslee', 'moddate': '2025-05-21T16:54:19+09:00', 'pdfversion': '1.4', 'source': 'G:\\\\내 드라이브\\\\LLM-RAG-LangChain\\\\제안요청서_바레인.pdf', 'total_pages': 60, 'page': 4, 'page_label': '5'}\n",
      "4\n",
      "5\n"
     ]
    }
   ],
   "source": [
    "#PyPDF 설치\n",
    "# !pip install -q pypdf\n",
    "# G:\\내 드라이브\\문영호\\109 RFP MOH eng.pdf\n",
    "\n",
    "#PyPDFLoader 불러오기\n",
    "from langchain_community.document_loaders import PyPDFLoader\n",
    "\n",
    "# PDF파일 불러올 객체 PyPDFLoader 선언 - window11 \n",
    "# loader = PyPDFLoader(r\"G:\\내 드라이브\\문영호\\109 RFP MOH eng.pdf\")\n",
    "loader = PyPDFLoader(\n",
    "    # r\"G:\\내 드라이브\\LLM-RAG-LangChain\\대한민국헌법(헌법)(제00010호)(19880225).pdf\"\n",
    "    # r\"C:\\Users\\MOON YOUNGHO\\Downloads\\제안요청서_바레인.pdf\"\n",
    "    r\"G:\\내 드라이브\\LLM-RAG-LangChain\\제안요청서_바레인.pdf\"\n",
    ")\n",
    "\n",
    "# PDF파일 불러올 객체 PyPDFLoader 선언 - macOS\n",
    "# loader = PyPDFLoader(\n",
    "#     r\"/Users/youngho_moon/Library/CloudStorage/GoogleDrive-anskong@gmail.com/내 드라이브/LLM-RAG-LangChain/대한민국헌법(헌법)(제00010호)(19880225).pdf\"\n",
    "# )\n",
    "\n",
    "# PDF파일 로드 및 페이지별로 자르기\n",
    "pages = loader.load_and_split()\n",
    "print(f\"페이지 수: {len(pages)}\")\n",
    "# print(pages[0].page_content)\n",
    "\n",
    "for i in range(5):   \n",
    "    print(f\"페이지 {i+1} 내용\") \n",
    "    print(\"===================================\")\n",
    "    print(pages[i].page_content)\n",
    "    print(pages[i].metadata)\n",
    "    print(pages[i].metadata['page'])\n",
    "    print(pages[i].metadata['page_label'])"
   ]
  }
 ],
 "metadata": {
  "kernelspec": {
   "display_name": "Python 3",
   "language": "python",
   "name": "python3"
  },
  "language_info": {
   "codemirror_mode": {
    "name": "ipython",
    "version": 3
   },
   "file_extension": ".py",
   "mimetype": "text/x-python",
   "name": "python",
   "nbconvert_exporter": "python",
   "pygments_lexer": "ipython3",
   "version": "3.11.9"
  }
 },
 "nbformat": 4,
 "nbformat_minor": 5
}
