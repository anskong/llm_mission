{
 "cells": [
  {
   "cell_type": "markdown",
   "id": "7f453c28",
   "metadata": {},
   "source": [
    "#### **1. 핵심 클래스 및 객체 구조**"
   ]
  },
  {
   "cell_type": "markdown",
   "id": "128dba60",
   "metadata": {},
   "source": [
    "\n",
    "✅ Presentation 객체\n",
    "프레젠테이션 전체를 나타냄\n",
    "\n",
    "슬라이드를 추가하거나 저장하는 기능 수행"
   ]
  },
  {
   "cell_type": "code",
   "execution_count": null,
   "id": "e7d7771b",
   "metadata": {},
   "outputs": [],
   "source": [
    "from pptx import Presentation\n",
    "\n",
    "prs = Presentation()  # 새 프레젠테이션 생성\n",
    "prs = Presentation('template.pptx')  # 기존 템플릿 불러오기\n",
    "prs.save('output.pptx')  # 저장\n"
   ]
  },
  {
   "cell_type": "markdown",
   "id": "38632caf",
   "metadata": {},
   "source": [
    "#### **🧩 2. 슬라이드 관련 주요 API**"
   ]
  },
  {
   "cell_type": "code",
   "execution_count": null,
   "id": "d775dbaf",
   "metadata": {},
   "outputs": [],
   "source": [
    "# 슬라이드 추가\n",
    "slide = prs.slides.add_slide(prs.slide_layouts[0])  # 제목 슬라이드\n",
    "slide = prs.slides.add_slide(prs.slide_layouts[1])  # 제목+내용\n",
    "\n",
    "# 슬라이드 레이아웃 확인\n",
    "for i, layout in enumerate(prs.slide_layouts):\n",
    "    print(f\"Layout {i}: {layout.name}\")"
   ]
  },
  {
   "cell_type": "markdown",
   "id": "6080bddd",
   "metadata": {},
   "source": [
    "#### **📝 3. 텍스트 삽입 및 편집**"
   ]
  },
  {
   "cell_type": "code",
   "execution_count": null,
   "id": "57a36490",
   "metadata": {},
   "outputs": [],
   "source": [
    "# 제목 및 본문 텍스트 설정\n",
    "title = slide.shapes.title\n",
    "title.text = \"슬라이드 제목\"\n",
    "\n",
    "content = slide.placeholders[1]  # 보통 본문 텍스트\n",
    "content.text = \"본문 내용\"\n",
    "\n",
    "# 텍스트에 단락 추가\n",
    "text_frame = content.text_frame\n",
    "text_frame.text = \"첫 번째 단락\"\n",
    "\n",
    "p = text_frame.add_paragraph()\n",
    "p.text = \"두 번째 단락\""
   ]
  },
  {
   "cell_type": "markdown",
   "id": "2767c806",
   "metadata": {},
   "source": [
    "#### **🎨 4. 텍스트 서식 (폰트, 크기, 정렬 등)**"
   ]
  },
  {
   "cell_type": "code",
   "execution_count": null,
   "id": "05a02c8d",
   "metadata": {},
   "outputs": [],
   "source": [
    "from pptx.util import Pt\n",
    "from pptx.enum.text import PP_ALIGN\n",
    "\n",
    "p = text_frame.paragraphs[0]\n",
    "run = p.runs[0]\n",
    "font = run.font\n",
    "font.name = '맑은 고딕'\n",
    "font.size = Pt(24)\n",
    "font.bold = True\n",
    "p.alignment = PP_ALIGN.CENTER"
   ]
  },
  {
   "cell_type": "markdown",
   "id": "c2ff66ce",
   "metadata": {},
   "source": [
    "#### **🖼️ 5. 이미지 삽입**"
   ]
  },
  {
   "cell_type": "code",
   "execution_count": null,
   "id": "76ac985a",
   "metadata": {},
   "outputs": [],
   "source": [
    "from pptx.util import Inches\n",
    "\n",
    "slide.shapes.add_picture('image.jpg', Inches(1), Inches(2), width=Inches(3), height=Inches(2))\n"
   ]
  },
  {
   "cell_type": "markdown",
   "id": "83c175ec",
   "metadata": {},
   "source": [
    "#### 🟪 6. 도형 삽입"
   ]
  },
  {
   "cell_type": "code",
   "execution_count": null,
   "id": "20393f24",
   "metadata": {},
   "outputs": [],
   "source": [
    "from pptx.enum.shapes import MSO_SHAPE\n",
    "\n",
    "left = Inches(2)\n",
    "top = Inches(2)\n",
    "width = Inches(2)\n",
    "height = Inches(1)\n",
    "\n",
    "shape = slide.shapes.add_shape(MSO_SHAPE.RECTANGLE, left, top, width, height)\n",
    "shape.text = \"도형 안 텍스트\""
   ]
  },
  {
   "cell_type": "markdown",
   "id": "b520eb34",
   "metadata": {},
   "source": [
    "#### 7. 표(Table) 삽입"
   ]
  },
  {
   "cell_type": "code",
   "execution_count": null,
   "id": "e2d14a9f",
   "metadata": {},
   "outputs": [],
   "source": [
    "rows, cols = 2, 2\n",
    "left = Inches(2)\n",
    "top = Inches(2)\n",
    "width = Inches(4)\n",
    "height = Inches(1)\n",
    "\n",
    "table = slide.shapes.add_table(rows, cols, left, top, width, height).table\n",
    "table.cell(0, 0).text = 'Header 1'\n",
    "table.cell(0, 1).text = 'Header 2'\n",
    "table.cell(1, 0).text = 'Data 1'\n",
    "table.cell(1, 1).text = 'Data 2'"
   ]
  },
  {
   "cell_type": "markdown",
   "id": "b6180484",
   "metadata": {},
   "source": [
    "#### 🧷 8. 기타 유용한 단위"
   ]
  },
  {
   "cell_type": "code",
   "execution_count": null,
   "id": "7a7a4166",
   "metadata": {},
   "outputs": [],
   "source": [
    "from pptx.util import Inches, Cm, Pt\n",
    "\n",
    "Inches(1)  # 1 inch = 2.54 cm\n",
    "Cm(2)      # 2 centimeters\n",
    "Pt(18)     # font size 등 포인트 단위"
   ]
  },
  {
   "cell_type": "markdown",
   "id": "26e85bc7",
   "metadata": {},
   "source": [
    "#### 📚 9. 주요 모듈 요약"
   ]
  },
  {
   "cell_type": "markdown",
   "id": "4555aea5",
   "metadata": {},
   "source": [
    "| 모듈                  | 역할                       |\n",
    "| ------------------- | ------------------------ |\n",
    "| `pptx.Presentation` | 프레젠테이션 생성 및 저장           |\n",
    "| `pptx.util`         | 단위 변환 (Inches, Pt, Cm 등) |\n",
    "| `pptx.enum.shapes`  | 도형 종류 (MSO\\_SHAPE)       |\n",
    "| `pptx.enum.text`    | 텍스트 정렬 (PP\\_ALIGN 등)     |\n",
    "| `pptx.dml.color`    | 색상 설정 (RGBColor 등)       |\n"
   ]
  },
  {
   "cell_type": "markdown",
   "id": "d7f73def",
   "metadata": {},
   "source": [
    "📘 참고 링크\n",
    "공식 문서: https://python-pptx.readthedocs.io/\n",
    "\n",
    "📘 API 레퍼런스: https://python-pptx.readthedocs.io/en/latest/api/index.html"
   ]
  },
  {
   "cell_type": "markdown",
   "id": "56e4ee6b",
   "metadata": {},
   "source": [
    "### **✅ 예제: 제목 + 텍스트 + 이미지 + 표"
   ]
  },
  {
   "cell_type": "code",
   "execution_count": null,
   "id": "ee164e87",
   "metadata": {},
   "outputs": [],
   "source": [
    "from pptx import Presentation\n",
    "from pptx.util import Inches\n",
    "\n",
    "prs = Presentation()\n",
    "slide = prs.slides.add_slide(prs.slide_layouts[1])\n",
    "slide.shapes.title.text = \"예제 제목\"\n",
    "slide.placeholders[1].text = \"본문 텍스트입니다.\"\n",
    "\n",
    "# 이미지\n",
    "slide.shapes.add_picture(\"sample.jpg\", Inches(1), Inches(2), width=Inches(4))\n",
    "\n",
    "# 표\n",
    "table_shape = slide.shapes.add_table(2, 2, Inches(1), Inches(5), Inches(4), Inches(1)).table\n",
    "table_shape.cell(0, 0).text = \"Header\"\n",
    "table_shape.cell(1, 0).text = \"Value\"\n",
    "\n",
    "prs.save(\"example.pptx\")\n"
   ]
  },
  {
   "cell_type": "markdown",
   "id": "3503bb0b",
   "metadata": {},
   "source": [
    "### **TRYING CODES**"
   ]
  },
  {
   "cell_type": "code",
   "execution_count": null,
   "id": "1741deaf",
   "metadata": {},
   "outputs": [],
   "source": [
    "from tkinter import filedialog, Tk, simpledialog, messagebox\n",
    "import json\n",
    "# 파일 선택기 열기\n",
    "root = Tk()\n",
    "root.withdraw()\n",
    "\n",
    "contents_path = filedialog.askopenfilename(title=\"TXT 파일 선택\", filetypes=[(\"TXT files\", \"*.txt\")])\n",
    "\n",
    "if not contents_path:\n",
    "  messagebox.showwarning(\"경고\", \"목차 파일을 선택하지 않았습니다.\")\n",
    "else :\n",
    "  print(f\"선택한 파일 명 :::: {contents_path}\")\n",
    "  # contents_path = \"contents.txt\"\n",
    "  with open(contents_path, 'r', encoding='utf-8') as file:\n",
    "      global contents\n",
    "      contents = json.load(file)\n",
    "      print(f\"목차 내용 ::: {contents}\")\n",
    "\n",
    "\n",
    "pdf_path = filedialog.askopenfilename(title=\"PDF 파일 선택\", filetypes=[(\"PDF files\", \"*.pdf\")])\n",
    "\n",
    "if not pdf_path:\n",
    "  messagebox.showwarning(\"경고\", \"PDF 파일을 선택하지 않았습니다.\")\n",
    "else :\n",
    "  print(f\"선택한 파일 명 :::: {pdf_path}\")"
   ]
  }
 ],
 "metadata": {
  "kernelspec": {
   "display_name": "Python 3",
   "language": "python",
   "name": "python3"
  },
  "language_info": {
   "codemirror_mode": {
    "name": "ipython",
    "version": 3
   },
   "file_extension": ".py",
   "mimetype": "text/x-python",
   "name": "python",
   "nbconvert_exporter": "python",
   "pygments_lexer": "ipython3",
   "version": "3.11.9"
  }
 },
 "nbformat": 4,
 "nbformat_minor": 5
}
