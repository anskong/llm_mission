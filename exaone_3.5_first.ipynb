{
 "cells": [
  {
   "cell_type": "markdown",
   "id": "4bec65c0",
   "metadata": {},
   "source": [
    "### **openAI 스타일 client 생성**"
   ]
  },
  {
   "cell_type": "code",
   "execution_count": null,
   "id": "3787f35c",
   "metadata": {},
   "outputs": [],
   "source": [
    "\n",
    "from openai import OpenAI\n",
    "\n",
    "client = OpenAI(\n",
    "    base_url=\"http://127.0.0.1:1234/v1\",\n",
    "    # model_name = 'exaone-3.5-2.4b-instruct',\n",
    "    api_key=\"lm-studio\",\n",
    ")\n",
    "\n",
    "# 질문 생성 → 답변 요청\n",
    "response = client.chat.completions.create(\n",
    "    model=\"exaone-3.5-2.4b-instruct\",  # 또는 LM Studio에서 실행 중인 모델 이름\n",
    "    messages=[\n",
    "        {\"role\": \"system\", \"content\": \"당신은 친절한 한국어 AI 비서입니다.\"},\n",
    "        {\"role\": \"user\", \"content\": \"EXAONE은 어떤 자연어 처리 방식을 사용하나요?\"}\n",
    "    ],\n",
    "    temperature=0.7,\n",
    "    max_tokens=512\n",
    ")\n",
    "\n",
    "# 결과 출력\n",
    "print(response.choices[0].message.content)"
   ]
  },
  {
   "cell_type": "code",
   "execution_count": null,
   "id": "d8bf6188",
   "metadata": {},
   "outputs": [],
   "source": [
    "from langchain_openai import ChatOpenAI\n",
    "\n",
    "chat = ChatOpenAI(\n",
    "    model_name = 'exaone-3.5-2.4b-instruct',\n",
    "    openai_api_key=\"lm-studio\",\n",
    "    openai_api_base=\"http://127.0.0.1:1234/v1\",\n",
    ")\n",
    "\n",
    "response = chat.invoke(\"너를 소개해줘\")\n",
    "\n",
    "print(response.content)  # 테스트용 (실제 서비스에서는 print 금지)"
   ]
  },
  {
   "cell_type": "code",
   "execution_count": null,
   "id": "a39843f6",
   "metadata": {},
   "outputs": [],
   "source": [
    "#PyPDF 설치\n",
    "# !pip install -q pypdf\n",
    "# G:\\내 드라이브\\문영호\\109 RFP MOH eng.pdf\n",
    "\n",
    "#PyPDFLoader 불러오기\n",
    "from langchain_community.document_loaders import PyPDFLoader\n",
    "\n",
    "# PDF파일 불러올 객체 PyPDFLoader 선언 - window11 \n",
    "# loader = PyPDFLoader(r\"G:\\내 드라이브\\문영호\\109 RFP MOH eng.pdf\")\n",
    "loader = PyPDFLoader(\n",
    "    # r\"G:\\내 드라이브\\LLM-RAG-LangChain\\대한민국헌법(헌법)(제00010호)(19880225).pdf\"\n",
    "    # r\"C:\\Users\\MOON YOUNGHO\\Downloads\\제안요청서_바레인.pdf\"\n",
    "    # r\"G:\\내 드라이브\\LLM-RAG-LangChain\\제안요청서_바레인.pdf\"\n",
    "    r\"/Users/youngho_moon/Library/CloudStorage/GoogleDrive-anskong@gmail.com/내 드라이브/LLM-RAG-LangChain/제안요청서_바레인.pdf\"\n",
    ")\n",
    "\n",
    "# PDF파일 불러올 객체 PyPDFLoader 선언 - macOS\n",
    "# loader = PyPDFLoader(\n",
    "#     r\"/Users/youngho_moon/Library/CloudStorage/GoogleDrive-anskong@gmail.com/내 드라이브/LLM-RAG-LangChain/대한민국헌법(헌법)(제00010호)(19880225).pdf\"\n",
    "# )\n",
    "\n",
    "# PDF파일 로드 및 페이지별로 자르기\n",
    "pages = loader.load_and_split()\n",
    "# print(f\"페이지 수: {len(pages)}\")\n",
    "# print(pages[0].page_content)\n",
    "\n",
    "# for i in range(10,11):   \n",
    "#     print(f\"페이지 {i+1} 내용\") \n",
    "#     print(\"===================================\")\n",
    "#     print(pages[i].page_content)\n",
    "#     print(pages[i].metadata)\n",
    "\n",
    "\n",
    "# chunk로 분리\n",
    "from langchain.text_splitter import RecursiveCharacterTextSplitter\n",
    "text_splitter = RecursiveCharacterTextSplitter(\n",
    "    chunk_size=1000,\n",
    "    chunk_overlap=200,\n",
    "    length_function=len,\n",
    ")\n",
    "chunks = text_splitter.split_documents(pages)\n",
    "\n",
    "print(f\"총 청크 수: {len(chunks)}\")\n",
    "for i in range(39,45):   \n",
    "    print(f\"청크 {i+1} 내용\") \n",
    "    print(\"===================================\")\n",
    "    print(chunks[i].page_content)\n",
    "    print(chunks[i].metadata)\n",
    "\n"
   ]
  }
 ],
 "metadata": {
  "kernelspec": {
   "display_name": "yhmoon05",
   "language": "python",
   "name": "python3"
  },
  "language_info": {
   "codemirror_mode": {
    "name": "ipython",
    "version": 3
   },
   "file_extension": ".py",
   "mimetype": "text/x-python",
   "name": "python",
   "nbconvert_exporter": "python",
   "pygments_lexer": "ipython3",
   "version": "3.12.9"
  }
 },
 "nbformat": 4,
 "nbformat_minor": 5
}
