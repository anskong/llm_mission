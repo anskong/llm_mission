{
 "cells": [
  {
   "cell_type": "markdown",
   "id": "b223f71c",
   "metadata": {},
   "source": [
    "\n",
    "| 라이브러리            | 역할 설명                                             |\n",
    "| ---------------- | ------------------------------------------------- |\n",
    "| 🔧 `pypdfium2`   | PDF 페이지를 \\*\\*이미지(PIL/Image)\\*\\*로 렌더링 (OCR 전처리 단계) |\n",
    "| 🧠 `pytesseract` | 이미지에서 **OCR(텍스트 인식)** 수행 (OCR 본 처리 단계)            |\n"
   ]
  },
  {
   "cell_type": "code",
   "execution_count": null,
   "id": "7d0e88ef",
   "metadata": {},
   "outputs": [],
   "source": [
    "import pytesseract\n",
    "pytesseract.pytesseract.tesseract_cmd = r\"C:\\Program Files\\Tesseract-OCR\\tesseract.exe\""
   ]
  },
  {
   "cell_type": "code",
   "execution_count": null,
   "id": "4722ca91",
   "metadata": {},
   "outputs": [],
   "source": [
    "import pypdfium2\n",
    "import pytesseract\n",
    "\n",
    "pdf_reader = pypdfium2.PdfDocument(r\"G:\\내 드라이브\\LLM-RAG-LangChain\\제안요청서_바레인.pdf\")\n",
    "\n",
    "for page in pdf_reader:\n",
    "    image = page.render(scale=2.0).to_pil()\n",
    "    text = pytesseract.image_to_string(image, lang=\"eng+kor\")\n",
    "    print(text)"
   ]
  },
  {
   "cell_type": "markdown",
   "id": "3f379070",
   "metadata": {},
   "source": [
    "##### **PDF에서 OCR 텍스트를 추출하는 통합 유틸리티 함수**"
   ]
  },
  {
   "cell_type": "code",
   "execution_count": null,
   "id": "5e94454f",
   "metadata": {},
   "outputs": [],
   "source": [
    "from typing import Literal, List\n",
    "from langchain_core.documents import Document\n",
    "import pytesseract\n",
    "\n",
    "def extract_ocr_text_from_pdf(\n",
    "    pdf_path: str,\n",
    "    lang: str = \"eng+kor\",\n",
    "    method: Literal[\"pdfium\", \"pdf2image\"] = \"pdfium\",\n",
    "    scale: float = 2.0\n",
    ") -> List[Document]:\n",
    "    docs = []\n",
    "\n",
    "    if method == \"pdfium\":\n",
    "        import pypdfium2\n",
    "        pdf = pypdfium2.PdfDocument(pdf_path)\n",
    "        for i, page in enumerate(pdf):\n",
    "            image = page.render(scale=scale).to_pil()\n",
    "            text = pytesseract.image_to_string(image, lang=lang)\n",
    "            if text.strip():\n",
    "                docs.append(Document(page_content=\"[OCR: PDFium]\\n\" + text.strip(), metadata={\"page\": i+1, \"type\": \"image_ocr\"}))\n",
    "\n",
    "    elif method == \"pdf2image\":\n",
    "        from pdf2image import convert_from_path\n",
    "        images = convert_from_path(pdf_path, dpi=int(200 * scale))  # scale 반영\n",
    "        for i, image in enumerate(images):\n",
    "            text = pytesseract.image_to_string(image, lang=lang)\n",
    "            if text.strip():\n",
    "                docs.append(Document(page_content=\"[OCR: PDF2Image]\\n\" + text.strip(), metadata={\"page\": i+1, \"type\": \"image_ocr\"}))\n",
    "\n",
    "    else:\n",
    "        raise ValueError(\"지원되지 않는 method입니다. 'pdfium' 또는 'pdf2image' 사용\")\n",
    "\n",
    "    return docs"
   ]
  }
 ],
 "metadata": {
  "kernelspec": {
   "display_name": "Python 3",
   "language": "python",
   "name": "python3"
  },
  "language_info": {
   "codemirror_mode": {
    "name": "ipython",
    "version": 3
   },
   "file_extension": ".py",
   "mimetype": "text/x-python",
   "name": "python",
   "nbconvert_exporter": "python",
   "pygments_lexer": "ipython3",
   "version": "3.11.9"
  }
 },
 "nbformat": 4,
 "nbformat_minor": 5
}
